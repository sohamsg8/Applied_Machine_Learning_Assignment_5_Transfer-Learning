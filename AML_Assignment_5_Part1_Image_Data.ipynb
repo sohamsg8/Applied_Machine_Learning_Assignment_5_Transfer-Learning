{
  "cells": [
    {
      "cell_type": "markdown",
      "metadata": {
        "id": "4u94_uoZWegY"
      },
      "source": [
        "# Applied ML Assignment 5 - Transfer learning on Image Data"
      ]
    },
    {
      "cell_type": "markdown",
      "metadata": {
        "id": "J_cPB1ToWjfG"
      },
      "source": [
        "Name- Soham Sengupta   \n",
        "Roll No.- MDS202241"
      ]
    },
    {
      "cell_type": "code",
      "execution_count": null,
      "metadata": {
        "colab": {
          "base_uri": "https://localhost:8080/"
        },
        "id": "I2wj0XlFwWWi",
        "outputId": "e0ae3b2c-8dde-4455-cfb9-02ed253739cd"
      },
      "outputs": [
        {
          "name": "stdout",
          "output_type": "stream",
          "text": [
            "Mounted at /content/drive\n"
          ]
        }
      ],
      "source": [
        "from google.colab import drive\n",
        "drive.mount('/content/drive')"
      ]
    },
    {
      "cell_type": "code",
      "execution_count": null,
      "metadata": {
        "id": "kakV_VoTwhos"
      },
      "outputs": [],
      "source": [
        "import numpy as np\n",
        "import tensorflow as tf\n",
        "from tensorflow.keras.models import Sequential\n",
        "from tensorflow.keras.layers import Dense, Flatten, Dropout\n",
        "from tensorflow.keras.applications import MobileNetV2\n",
        "from tensorflow.keras.optimizers import Adam\n",
        "from tensorflow.keras.preprocessing.image import ImageDataGenerator\n",
        "from sklearn.metrics import classification_report\n",
        "from sklearn.metrics import classification_report, confusion_matrix\n",
        "import matplotlib.pyplot as plt"
      ]
    },
    {
      "cell_type": "code",
      "execution_count": null,
      "metadata": {
        "id": "59hhdtfFxCwY"
      },
      "outputs": [],
      "source": [
        "batch_size = 32\n",
        "img_height = 256\n",
        "img_width = 256"
      ]
    },
    {
      "cell_type": "code",
      "execution_count": null,
      "metadata": {
        "id": "bj3xPIo5xbYI"
      },
      "outputs": [],
      "source": [
        "base_dir = '/content/drive/MyDrive/Applied ML/data'\n",
        "chicken_dir = f'{base_dir}/chicken'\n",
        "duck_dir = f'{base_dir}/duck'"
      ]
    },
    {
      "cell_type": "code",
      "execution_count": null,
      "metadata": {
        "id": "fHZq3wlO1QCS"
      },
      "outputs": [],
      "source": [
        "train_datagen = ImageDataGenerator(\n",
        "    rescale=1./255,\n",
        "    rotation_range=40,\n",
        "    width_shift_range=0.2,\n",
        "    height_shift_range=0.2,\n",
        "    shear_range=0.2,\n",
        "    zoom_range=0.2,\n",
        "    horizontal_flip=True,\n",
        "    fill_mode='nearest',\n",
        "    validation_split=0.15)"
      ]
    },
    {
      "cell_type": "code",
      "execution_count": null,
      "metadata": {
        "colab": {
          "base_uri": "https://localhost:8080/"
        },
        "id": "cCHeG3Hk1X-K",
        "outputId": "67433307-39c8-4a54-eec2-c40582a2feb1"
      },
      "outputs": [
        {
          "name": "stdout",
          "output_type": "stream",
          "text": [
            "Found 184 images belonging to 2 classes.\n"
          ]
        }
      ],
      "source": [
        "train_generator = train_datagen.flow_from_directory(\n",
        "    base_dir,                    # Directory path containing your dataset\n",
        "    target_size=(img_height, img_width),  # Resizing images to this dimension\n",
        "    batch_size=batch_size,       # Number of images per batch\n",
        "    class_mode='binary',         # Type of label arrays (binary for 2 classes)\n",
        "    subset='training'            # Subset of data to use (training subset)\n",
        ")"
      ]
    },
    {
      "cell_type": "code",
      "execution_count": null,
      "metadata": {
        "colab": {
          "base_uri": "https://localhost:8080/"
        },
        "id": "iLenXa2D2za9",
        "outputId": "6c94af5c-05ba-4a93-e35d-bc4da358aef6"
      },
      "outputs": [
        {
          "name": "stdout",
          "output_type": "stream",
          "text": [
            "Found 32 images belonging to 2 classes.\n"
          ]
        }
      ],
      "source": [
        "validation_generator = train_datagen.flow_from_directory(\n",
        "    base_dir,\n",
        "    target_size=(img_height, img_width),\n",
        "    batch_size=batch_size,\n",
        "    class_mode='binary',\n",
        "    subset='validation')"
      ]
    },
    {
      "cell_type": "code",
      "execution_count": null,
      "metadata": {
        "colab": {
          "base_uri": "https://localhost:8080/"
        },
        "id": "rfhrFIRd5Dy_",
        "outputId": "72a1ac16-a12a-4be8-c7bb-d0300021e929"
      },
      "outputs": [
        {
          "name": "stderr",
          "output_type": "stream",
          "text": [
            "WARNING:tensorflow:`input_shape` is undefined or non-square, or `rows` is not in [96, 128, 160, 192, 224]. Weights for input shape (224, 224) will be loaded as the default.\n"
          ]
        },
        {
          "name": "stdout",
          "output_type": "stream",
          "text": [
            "Downloading data from https://storage.googleapis.com/tensorflow/keras-applications/mobilenet_v2/mobilenet_v2_weights_tf_dim_ordering_tf_kernels_1.0_224_no_top.h5\n",
            "9406464/9406464 [==============================] - 2s 0us/step\n"
          ]
        }
      ],
      "source": [
        "base_model = MobileNetV2(input_shape=(img_height, img_width, 3),\n",
        "                             include_top=False,\n",
        "                             weights='imagenet')\n",
        "base_model.trainable = False"
      ]
    },
    {
      "cell_type": "code",
      "execution_count": null,
      "metadata": {
        "id": "lNd2yvfy7g4s"
      },
      "outputs": [],
      "source": [
        " model = Sequential([\n",
        "        base_model,\n",
        "        Flatten(),\n",
        "        Dense(128, activation='relu'),\n",
        "        Dropout(0.5),\n",
        "        Dense(1, activation='sigmoid')\n",
        "    ])"
      ]
    },
    {
      "cell_type": "code",
      "execution_count": null,
      "metadata": {
        "colab": {
          "base_uri": "https://localhost:8080/"
        },
        "id": "5bHrPx2s8Kli",
        "outputId": "776c71ed-add1-481f-dd15-874c8d37a00d"
      },
      "outputs": [
        {
          "name": "stderr",
          "output_type": "stream",
          "text": [
            "WARNING:absl:`lr` is deprecated in Keras optimizer, please use `learning_rate` or use the legacy optimizer, e.g.,tf.keras.optimizers.legacy.Adam.\n"
          ]
        }
      ],
      "source": [
        "model.compile(optimizer=Adam(lr=0.0001),\n",
        "                  loss='binary_crossentropy',\n",
        "                  metrics=['accuracy'])"
      ]
    },
    {
      "cell_type": "code",
      "execution_count": null,
      "metadata": {
        "colab": {
          "base_uri": "https://localhost:8080/"
        },
        "id": "4IYqrwF68hvL",
        "outputId": "5370da05-1459-4455-9d69-053abd23f1c2"
      },
      "outputs": [
        {
          "name": "stdout",
          "output_type": "stream",
          "text": [
            "Model: \"sequential\"\n",
            "_________________________________________________________________\n",
            " Layer (type)                Output Shape              Param #   \n",
            "=================================================================\n",
            " mobilenetv2_1.00_224 (Func  (None, 8, 8, 1280)        2257984   \n",
            " tional)                                                         \n",
            "                                                                 \n",
            " flatten (Flatten)           (None, 81920)             0         \n",
            "                                                                 \n",
            " dense (Dense)               (None, 128)               10485888  \n",
            "                                                                 \n",
            " dropout (Dropout)           (None, 128)               0         \n",
            "                                                                 \n",
            " dense_1 (Dense)             (None, 1)                 129       \n",
            "                                                                 \n",
            "=================================================================\n",
            "Total params: 12744001 (48.61 MB)\n",
            "Trainable params: 10486017 (40.00 MB)\n",
            "Non-trainable params: 2257984 (8.61 MB)\n",
            "_________________________________________________________________\n"
          ]
        }
      ],
      "source": [
        "model.summary()"
      ]
    },
    {
      "cell_type": "code",
      "execution_count": null,
      "metadata": {
        "colab": {
          "base_uri": "https://localhost:8080/"
        },
        "id": "gAe6lJ_G8orX",
        "outputId": "873d8e5d-dceb-41fd-9441-8eeb2cc4e8e2"
      },
      "outputs": [
        {
          "name": "stdout",
          "output_type": "stream",
          "text": [
            "Epoch 1/10\n",
            "5/5 [==============================] - 105s 19s/step - loss: 4.3715 - accuracy: 0.7039 - val_loss: 3.1538 - val_accuracy: 0.6562\n",
            "Epoch 2/10\n",
            "5/5 [==============================] - 4s 802ms/step - loss: 2.9574 - accuracy: 0.8618 - val_loss: 2.2900 - val_accuracy: 0.8438\n",
            "Epoch 3/10\n",
            "5/5 [==============================] - 4s 843ms/step - loss: 6.0368 - accuracy: 0.7566 - val_loss: 1.0246 - val_accuracy: 0.8438\n",
            "Epoch 4/10\n",
            "5/5 [==============================] - 5s 890ms/step - loss: 2.1896 - accuracy: 0.9187 - val_loss: 0.8423 - val_accuracy: 0.9062\n",
            "Epoch 5/10\n",
            "5/5 [==============================] - 4s 847ms/step - loss: 0.7621 - accuracy: 0.9342 - val_loss: 0.2731 - val_accuracy: 0.9062\n",
            "Epoch 6/10\n",
            "5/5 [==============================] - 5s 1s/step - loss: 0.9420 - accuracy: 0.9145 - val_loss: 3.0834 - val_accuracy: 0.8438\n",
            "Epoch 7/10\n",
            "5/5 [==============================] - 4s 865ms/step - loss: 0.6591 - accuracy: 0.9474 - val_loss: 1.7150 - val_accuracy: 0.9062\n",
            "Epoch 8/10\n",
            "5/5 [==============================] - 4s 862ms/step - loss: 0.7734 - accuracy: 0.9474 - val_loss: 0.7783 - val_accuracy: 0.9375\n",
            "Epoch 9/10\n",
            "5/5 [==============================] - 6s 1s/step - loss: 0.5803 - accuracy: 0.9276 - val_loss: 0.2787 - val_accuracy: 0.9688\n",
            "Epoch 10/10\n",
            "5/5 [==============================] - 4s 802ms/step - loss: 0.1163 - accuracy: 0.9671 - val_loss: 0.8457 - val_accuracy: 0.9375\n"
          ]
        }
      ],
      "source": [
        "epochs = 10\n",
        "history = model.fit(\n",
        "    train_generator,\n",
        "    steps_per_epoch=train_generator.samples // batch_size,\n",
        "    validation_data=validation_generator,\n",
        "    validation_steps=validation_generator.samples // batch_size,\n",
        "    epochs=epochs)"
      ]
    },
    {
      "cell_type": "code",
      "execution_count": null,
      "metadata": {
        "colab": {
          "base_uri": "https://localhost:8080/"
        },
        "id": "cqlutpnd-F_S",
        "outputId": "a5266fba-46e9-44f9-eab7-c37e01f97b45"
      },
      "outputs": [
        {
          "name": "stdout",
          "output_type": "stream",
          "text": [
            "1/1 [==============================] - 1s 839ms/step\n"
          ]
        }
      ],
      "source": [
        "# Predict on the validation set\n",
        "val_images, val_labels = next(validation_generator)\n",
        "predictions = model.predict(val_images)\n",
        "predicted_classes = [1 if prob > 0.5 else 0 for prob in predictions]"
      ]
    },
    {
      "cell_type": "code",
      "execution_count": null,
      "metadata": {
        "colab": {
          "base_uri": "https://localhost:8080/"
        },
        "id": "xARGsEbC-I5R",
        "outputId": "04460a0a-b32e-43a8-fe98-2971d9fe6200"
      },
      "outputs": [
        {
          "name": "stdout",
          "output_type": "stream",
          "text": [
            "              precision    recall  f1-score   support\n",
            "\n",
            "     Chicken       0.86      0.75      0.80        16\n",
            "        Duck       0.78      0.88      0.82        16\n",
            "\n",
            "    accuracy                           0.81        32\n",
            "   macro avg       0.82      0.81      0.81        32\n",
            "weighted avg       0.82      0.81      0.81        32\n",
            "\n"
          ]
        }
      ],
      "source": [
        "print(classification_report(val_labels, predicted_classes, target_names=['Chicken', 'Duck']))"
      ]
    },
    {
      "cell_type": "code",
      "execution_count": null,
      "metadata": {
        "colab": {
          "base_uri": "https://localhost:8080/"
        },
        "id": "9BM_Vfeo-RBS",
        "outputId": "5e11f7b7-8a7f-47ee-86b4-95d68365a19a"
      },
      "outputs": [
        {
          "name": "stdout",
          "output_type": "stream",
          "text": [
            "Confusion Matrix:\n",
            "[[12  4]\n",
            " [ 2 14]]\n"
          ]
        }
      ],
      "source": [
        "cm = confusion_matrix(val_labels, predicted_classes)\n",
        "print(\"Confusion Matrix:\")\n",
        "print(cm)"
      ]
    },
    {
      "cell_type": "code",
      "execution_count": null,
      "metadata": {
        "colab": {
          "base_uri": "https://localhost:8080/",
          "height": 545
        },
        "id": "7mKbyHs1_SOs",
        "outputId": "116ef020-4ce7-4518-c6ea-ca5dd60e53cf"
      },
      "outputs": [
        {
          "data": {
            "image/png": "[encoded data removed]",
            "text/plain": [
              "<Figure size 1200x600 with 2 Axes>"
            ]
          },
          "metadata": {},
          "output_type": "display_data"
        }
      ],
      "source": [
        "def plot_training(history):\n",
        "    acc = history.history['accuracy']\n",
        "    val_acc = history.history['val_accuracy']\n",
        "    loss = history.history['loss']\n",
        "    val_loss = history.history['val_loss']\n",
        "    epochs = range(1, len(acc) + 1)\n",
        "\n",
        "    plt.figure(figsize=(12, 6))\n",
        "    plt.subplot(1, 2, 1)\n",
        "    plt.plot(epochs, acc, 'b', label='Training acc')\n",
        "    plt.plot(epochs, val_acc, 'r', label='Validation acc')\n",
        "    plt.title('Training and Validation Accuracy')\n",
        "    plt.legend()\n",
        "\n",
        "    plt.subplot(1, 2, 2)\n",
        "    plt.plot(epochs, loss, 'b', label='Training loss')\n",
        "    plt.plot(epochs, val_loss, 'r', label='Validation loss')\n",
        "    plt.title('Training and Validation Loss')\n",
        "    plt.legend()\n",
        "\n",
        "    plt.show()\n",
        "\n",
        "plot_training(history)"
      ]
    },
    {
      "cell_type": "code",
      "execution_count": null,
      "metadata": {
        "id": "4z_n8gT9_sMn"
      },
      "outputs": [],
      "source": []
    },
    {
      "cell_type": "markdown",
      "metadata": {
        "id": "nek9ql6CWdTb"
      },
      "source": []
    }
  ],
  "metadata": {
    "accelerator": "GPU",
    "colab": {
      "gpuType": "T4",
      "provenance": []
    },
    "kernelspec": {
      "display_name": "Python 3",
      "name": "python3"
    },
    "language_info": {
      "name": "python"
    }
  },
  "nbformat": 4,
  "nbformat_minor": 0
}
